{
 "cells": [
  {
   "cell_type": "markdown",
   "metadata": {},
   "source": [
    "# Plagiarism Detection Model\n",
    "\n",
    "Now that you've created training and test data, you are ready to define and train a model. Your goal in this notebook, will be to train a binary classification model that learns to label an answer file as either plagiarized or not, based on the features you provide the model.\n",
    "\n",
    "This task will be broken down into a few discrete steps:\n",
    "\n",
    "* Upload your data to S3.\n",
    "* Define a binary classification model and a training script.\n",
    "* Train your model and deploy it.\n",
    "* Evaluate your deployed classifier and answer some questions about your approach.\n",
    "\n",
    "To complete this notebook, you'll have to complete all given exercises and answer all the questions in this notebook.\n",
    "> All your tasks will be clearly labeled **EXERCISE** and questions as **QUESTION**.\n",
    "\n",
    "It will be up to you to explore different classification models and decide on a model that gives you the best performance for this dataset.\n",
    "\n",
    "---"
   ]
  },
  {
   "cell_type": "markdown",
   "metadata": {},
   "source": [
    "## Load Data to S3\n",
    "\n",
    "In the last notebook, you should have created two files: a `training.csv` and `test.csv` file with the features and class labels for the given corpus of plagiarized/non-plagiarized text data. \n",
    "\n",
    ">The below cells load in some AWS SageMaker libraries and creates a default bucket. After creating this bucket, you can upload your locally stored data to S3.\n",
    "\n",
    "Save your train and test `.csv` feature files, locally. To do this you can run the second notebook \"2_Plagiarism_Feature_Engineering\" in SageMaker or you can manually upload your files to this notebook using the upload icon in Jupyter Lab. Then you can upload local files to S3 by using `sagemaker_session.upload_data` and pointing directly to where the training data is saved."
   ]
  },
  {
   "cell_type": "code",
   "execution_count": 138,
   "metadata": {},
   "outputs": [],
   "source": [
    "import pandas as pd\n",
    "import boto3\n",
    "import sagemaker"
   ]
  },
  {
   "cell_type": "code",
   "execution_count": 139,
   "metadata": {},
   "outputs": [],
   "source": [
    "\"\"\"\n",
    "DON'T MODIFY ANYTHING IN THIS CELL THAT IS BELOW THIS LINE\n",
    "\"\"\"\n",
    "# session and role\n",
    "sagemaker_session = sagemaker.Session()\n",
    "role = sagemaker.get_execution_role()\n",
    "\n",
    "# create an S3 bucket\n",
    "bucket = sagemaker_session.default_bucket()"
   ]
  },
  {
   "cell_type": "markdown",
   "metadata": {},
   "source": [
    "## EXERCISE: Upload your training data to S3\n",
    "\n",
    "Specify the `data_dir` where you've saved your `train.csv` file. Decide on a descriptive `prefix` that defines where your data will be uploaded in the default S3 bucket. Finally, create a pointer to your training data by calling `sagemaker_session.upload_data` and passing in the required parameters. It may help to look at the [Session documentation](https://sagemaker.readthedocs.io/en/stable/session.html#sagemaker.session.Session.upload_data) or previous SageMaker code examples.\n",
    "\n",
    "You are expected to upload your entire directory. Later, the training script will only access the `train.csv` file."
   ]
  },
  {
   "cell_type": "code",
   "execution_count": 140,
   "metadata": {},
   "outputs": [
    {
     "name": "stdout",
     "output_type": "stream",
     "text": [
      "ls: cannot access plagiarism: No such file or directory\r\n",
      "data:\r\n",
      "file_information.csv  g1pA_taska.txt  g2pC_taskb.txt  g4pB_taskc.txt\r\n",
      "g0pA_taska.txt\t      g1pA_taskb.txt  g2pC_taskc.txt  g4pB_taskd.txt\r\n",
      "g0pA_taskb.txt\t      g1pA_taskc.txt  g2pC_taskd.txt  g4pB_taske.txt\r\n",
      "g0pA_taskc.txt\t      g1pA_taskd.txt  g2pC_taske.txt  g4pC_taska.txt\r\n",
      "g0pA_taskd.txt\t      g1pA_taske.txt  g2pE_taska.txt  g4pC_taskb.txt\r\n",
      "g0pA_taske.txt\t      g1pB_taska.txt  g2pE_taskb.txt  g4pC_taskc.txt\r\n",
      "g0pB_taska.txt\t      g1pB_taskb.txt  g2pE_taskc.txt  g4pC_taskd.txt\r\n",
      "g0pB_taskb.txt\t      g1pB_taskc.txt  g2pE_taskd.txt  g4pC_taske.txt\r\n",
      "g0pB_taskc.txt\t      g1pB_taskd.txt  g2pE_taske.txt  g4pD_taska.txt\r\n",
      "g0pB_taskd.txt\t      g1pB_taske.txt  g3pA_taska.txt  g4pD_taskb.txt\r\n",
      "g0pB_taske.txt\t      g1pD_taska.txt  g3pA_taskb.txt  g4pD_taskc.txt\r\n",
      "g0pC_taska.txt\t      g1pD_taskb.txt  g3pA_taskc.txt  g4pD_taskd.txt\r\n",
      "g0pC_taskb.txt\t      g1pD_taskc.txt  g3pA_taskd.txt  g4pD_taske.txt\r\n",
      "g0pC_taskc.txt\t      g1pD_taskd.txt  g3pA_taske.txt  g4pE_taska.txt\r\n",
      "g0pC_taskd.txt\t      g1pD_taske.txt  g3pB_taska.txt  g4pE_taskb.txt\r\n",
      "g0pC_taske.txt\t      g2pA_taska.txt  g3pB_taskb.txt  g4pE_taskc.txt\r\n",
      "g0pD_taska.txt\t      g2pA_taskb.txt  g3pB_taskc.txt  g4pE_taskd.txt\r\n",
      "g0pD_taskb.txt\t      g2pA_taskc.txt  g3pB_taskd.txt  g4pE_taske.txt\r\n",
      "g0pD_taskc.txt\t      g2pA_taskd.txt  g3pB_taske.txt  orig_taska.txt\r\n",
      "g0pD_taskd.txt\t      g2pA_taske.txt  g3pC_taska.txt  orig_taskb.txt\r\n",
      "g0pD_taske.txt\t      g2pB_taska.txt  g3pC_taskb.txt  orig_taskc.txt\r\n",
      "g0pE_taska.txt\t      g2pB_taskb.txt  g3pC_taskc.txt  orig_taskd.txt\r\n",
      "g0pE_taskb.txt\t      g2pB_taskc.txt  g3pC_taskd.txt  orig_taske.txt\r\n",
      "g0pE_taskc.txt\t      g2pB_taskd.txt  g3pC_taske.txt  test_info.csv\r\n",
      "g0pE_taskd.txt\t      g2pB_taske.txt  g4pB_taska.txt\r\n",
      "g0pE_taske.txt\t      g2pC_taska.txt  g4pB_taskb.txt\r\n"
     ]
    }
   ],
   "source": [
    "!ls plagiarism data\n",
    "\n",
    "# should be the name of directory you created to save your features data\n",
    "data_dir = \"plagiarism_data\"\n",
    "\n",
    "# set prefix, a descriptive name for a directory  \n",
    "prefix = \"sagemaker/plagiarism-data\"\n",
    "\n",
    "# upload all data to S3\n",
    "data = sagemaker_session.upload_data(path=data_dir, bucket=bucket, key_prefix=prefix)\n"
   ]
  },
  {
   "cell_type": "markdown",
   "metadata": {},
   "source": [
    "### Test cell\n",
    "\n",
    "Test that your data has been successfully uploaded. The below cell prints out the items in your S3 bucket and will throw an error if it is empty. You should see the contents of your `data_dir` and perhaps some checkpoints. If you see any other files listed, then you may have some old model files that you can delete via the S3 console (though, additional files shouldn't affect the performance of model developed in this notebook)."
   ]
  },
  {
   "cell_type": "code",
   "execution_count": 141,
   "metadata": {},
   "outputs": [
    {
     "name": "stdout",
     "output_type": "stream",
     "text": [
      "counties/kmeans-2020-07-13-14-14-19-903/output/model.tar.gz\n",
      "counties/pca-2020-07-13-10-02-18-503/output/model.tar.gz\n",
      "sagemaker-pytorch-2020-07-04-15-25-59-555/debug-output/training_job_end.ts\n",
      "sagemaker-pytorch-2020-07-04-15-25-59-555/output/model.tar.gz\n",
      "sagemaker-pytorch-2020-07-04-15-25-59-555/source/sourcedir.tar.gz\n",
      "sagemaker-pytorch-2020-07-04-16-35-10-259/debug-output/training_job_end.ts\n",
      "sagemaker-pytorch-2020-07-04-16-35-10-259/output/model.tar.gz\n",
      "sagemaker-pytorch-2020-07-04-16-35-10-259/source/sourcedir.tar.gz\n",
      "sagemaker-pytorch-2020-07-04-19-28-42-820/sourcedir.tar.gz\n",
      "sagemaker-pytorch-2020-07-04-19-52-17-283/sourcedir.tar.gz\n",
      "sagemaker-pytorch-2020-07-04-20-02-56-951/sourcedir.tar.gz\n",
      "sagemaker-pytorch-2020-07-04-20-04-56-582/sourcedir.tar.gz\n",
      "sagemaker-pytorch-2020-07-04-20-06-01-458/sourcedir.tar.gz\n",
      "sagemaker-pytorch-2020-07-04-20-16-38-344/sourcedir.tar.gz\n",
      "sagemaker-pytorch-2020-07-04-20-20-59-979/sourcedir.tar.gz\n",
      "sagemaker-pytorch-2020-07-04-21-13-07-061/sourcedir.tar.gz\n",
      "sagemaker-pytorch-2020-07-04-21-41-43-778/sourcedir.tar.gz\n",
      "sagemaker-pytorch-2020-07-04-21-42-04-566/sourcedir.tar.gz\n",
      "sagemaker-pytorch-2020-07-04-21-43-32-887/sourcedir.tar.gz\n",
      "sagemaker-pytorch-2020-07-04-21-49-46-353/debug-output/training_job_end.ts\n",
      "sagemaker-pytorch-2020-07-04-21-49-46-353/output/model.tar.gz\n",
      "sagemaker-pytorch-2020-07-04-21-49-46-353/source/sourcedir.tar.gz\n",
      "sagemaker-pytorch-2020-07-05-04-45-36-420/debug-output/training_job_end.ts\n",
      "sagemaker-pytorch-2020-07-05-04-45-36-420/output/model.tar.gz\n",
      "sagemaker-pytorch-2020-07-05-04-45-36-420/source/sourcedir.tar.gz\n",
      "sagemaker-pytorch-2020-07-05-14-08-40-977/source/sourcedir.tar.gz\n",
      "sagemaker-pytorch-2020-07-05-14-19-46-305/debug-output/training_job_end.ts\n",
      "sagemaker-pytorch-2020-07-05-14-19-46-305/output/model.tar.gz\n",
      "sagemaker-pytorch-2020-07-05-14-19-46-305/source/sourcedir.tar.gz\n",
      "sagemaker-pytorch-2020-07-05-16-25-41-130/sourcedir.tar.gz\n",
      "sagemaker-record-sets/KMeans-2020-07-13-14-12-44-051/.amazon.manifest\n",
      "sagemaker-record-sets/KMeans-2020-07-13-14-12-44-051/matrix_0.pbr\n",
      "sagemaker-record-sets/KMeans-2020-07-13-14-13-33-245/.amazon.manifest\n",
      "sagemaker-record-sets/KMeans-2020-07-13-14-13-33-245/matrix_0.pbr\n",
      "sagemaker-record-sets/PCA-2020-07-13-10-02-14-301/.amazon.manifest\n",
      "sagemaker-record-sets/PCA-2020-07-13-10-02-14-301/matrix_0.pbr\n",
      "sagemaker-scikit-learn-2020-07-13-18-30-46-884/source/sourcedir.tar.gz\n",
      "sagemaker-scikit-learn-2020-07-13-18-38-19-365/source/sourcedir.tar.gz\n",
      "sagemaker-scikit-learn-2020-07-13-18-47-09-989/source/sourcedir.tar.gz\n",
      "sagemaker-scikit-learn-2020-07-13-19-03-10-720/source/sourcedir.tar.gz\n",
      "sagemaker-scikit-learn-2020-07-13-19-08-23-902/debug-output/training_job_end.ts\n",
      "sagemaker-scikit-learn-2020-07-13-19-08-23-902/output/model.tar.gz\n",
      "sagemaker-scikit-learn-2020-07-13-19-08-23-902/source/sourcedir.tar.gz\n",
      "sagemaker-scikit-learn-2020-07-13-19-27-00-591/debug-output/training_job_end.ts\n",
      "sagemaker-scikit-learn-2020-07-13-19-27-00-591/output/model.tar.gz\n",
      "sagemaker-scikit-learn-2020-07-13-19-27-00-591/source/sourcedir.tar.gz\n",
      "sagemaker-scikit-learn-2020-07-13-19-34-28-828/debug-output/training_job_end.ts\n",
      "sagemaker-scikit-learn-2020-07-13-19-34-28-828/output/model.tar.gz\n",
      "sagemaker-scikit-learn-2020-07-13-19-34-28-828/source/sourcedir.tar.gz\n",
      "sagemaker-scikit-learn-2020-07-14-10-57-06-458/source/sourcedir.tar.gz\n",
      "sagemaker-scikit-learn-2020-07-14-11-09-22-362/source/sourcedir.tar.gz\n",
      "sagemaker/plagiarism-data/test.csv\n",
      "sagemaker/plagiarism-data/train.csv\n",
      "sagemaker/sentiment_rnn/train.csv\n",
      "sagemaker/sentiment_rnn/word_dict.pkl\n",
      "sentiment-web-app/output/xgboost-2020-07-02-20-39-02-730/output/model.tar.gz\n",
      "sentiment-web-app/test.csv\n",
      "sentiment-web-app/train.csv\n",
      "sentiment-web-app/validation.csv\n",
      "sentiment-xgboost/output/xgboost-2020-07-01-16-50-49-466/output/model.tar.gz\n",
      "sentiment-xgboost/test.csv\n",
      "sentiment-xgboost/train.csv\n",
      "sentiment-xgboost/validation.csv\n",
      "xgboost-2020-07-01-16-54-01-643/test.csv.out\n",
      "xgboost-2020-07-02-20-47-53-771/test.csv.out\n",
      "Test passed!\n"
     ]
    }
   ],
   "source": [
    "\"\"\"\n",
    "DON'T MODIFY ANYTHING IN THIS CELL THAT IS BELOW THIS LINE\n",
    "\"\"\"\n",
    "# confirm that data is in S3 bucket\n",
    "empty_check = []\n",
    "for obj in boto3.resource('s3').Bucket(bucket).objects.all():\n",
    "    empty_check.append(obj.key)\n",
    "    print(obj.key)\n",
    "\n",
    "assert len(empty_check) !=0, 'S3 bucket is empty.'\n",
    "print('Test passed!')"
   ]
  },
  {
   "cell_type": "markdown",
   "metadata": {},
   "source": [
    "---\n",
    "\n",
    "# Modeling\n",
    "\n",
    "Now that you've uploaded your training data, it's time to define and train a model!\n",
    "\n",
    "The type of model you create is up to you. For a binary classification task, you can choose to go one of three routes:\n",
    "* Use a built-in classification algorithm, like LinearLearner.\n",
    "* Define a custom Scikit-learn classifier, a comparison of models can be found [here](https://scikit-learn.org/stable/auto_examples/classification/plot_classifier_comparison.html).\n",
    "* Define a custom PyTorch neural network classifier. \n",
    "\n",
    "It will be up to you to test out a variety of models and choose the best one. Your project will be graded on the accuracy of your final model. \n",
    " \n",
    "---\n",
    "\n",
    "## EXERCISE: Complete a training script \n",
    "\n",
    "To implement a custom classifier, you'll need to complete a `train.py` script. You've been given the folders `source_sklearn` and `source_pytorch` which hold starting code for a custom Scikit-learn model and a PyTorch model, respectively. Each directory has a `train.py` training script. To complete this project **you only need to complete one of these scripts**; the script that is responsible for training your final model.\n",
    "\n",
    "A typical training script:\n",
    "* Loads training data from a specified directory\n",
    "* Parses any training & model hyperparameters (ex. nodes in a neural network, training epochs, etc.)\n",
    "* Instantiates a model of your design, with any specified hyperparams\n",
    "* Trains that model \n",
    "* Finally, saves the model so that it can be hosted/deployed, later\n",
    "\n",
    "### Defining and training a model\n",
    "Much of the training script code is provided for you. Almost all of your work will be done in the `if __name__ == '__main__':` section. To complete a `train.py` file, you will:\n",
    "1. Import any extra libraries you need\n",
    "2. Define any additional model training hyperparameters using `parser.add_argument`\n",
    "2. Define a model in the `if __name__ == '__main__':` section\n",
    "3. Train the model in that same section\n",
    "\n",
    "Below, you can use `!pygmentize` to display an existing `train.py` file. Read through the code; all of your tasks are marked with `TODO` comments. \n",
    "\n",
    "**Note: If you choose to create a custom PyTorch model, you will be responsible for defining the model in the `model.py` file,** and a `predict.py` file is provided. If you choose to use Scikit-learn, you only need a `train.py` file; you may import a classifier from the `sklearn` library."
   ]
  },
  {
   "cell_type": "code",
   "execution_count": 143,
   "metadata": {},
   "outputs": [
    {
     "name": "stdout",
     "output_type": "stream",
     "text": [
      "\u001b[34mfrom\u001b[39;49;00m \u001b[04m\u001b[36m__future__\u001b[39;49;00m \u001b[34mimport\u001b[39;49;00m print_function\r\n",
      "\r\n",
      "\u001b[34mimport\u001b[39;49;00m \u001b[04m\u001b[36margparse\u001b[39;49;00m\r\n",
      "\u001b[34mimport\u001b[39;49;00m \u001b[04m\u001b[36mos\u001b[39;49;00m\r\n",
      "\u001b[34mimport\u001b[39;49;00m \u001b[04m\u001b[36mpandas\u001b[39;49;00m \u001b[34mas\u001b[39;49;00m \u001b[04m\u001b[36mpd\u001b[39;49;00m\r\n",
      "\r\n",
      "\u001b[34mfrom\u001b[39;49;00m \u001b[04m\u001b[36msklearn\u001b[39;49;00m\u001b[04m\u001b[36m.\u001b[39;49;00m\u001b[04m\u001b[36mexternals\u001b[39;49;00m \u001b[34mimport\u001b[39;49;00m joblib\r\n",
      "\r\n",
      "\u001b[37m## TODO: Import any additional libraries you need to define a model\u001b[39;49;00m\r\n",
      "\u001b[34mfrom\u001b[39;49;00m \u001b[04m\u001b[36msklearn\u001b[39;49;00m\u001b[04m\u001b[36m.\u001b[39;49;00m\u001b[04m\u001b[36mensemble\u001b[39;49;00m \u001b[34mimport\u001b[39;49;00m RandomForestClassifier\r\n",
      "\r\n",
      "\u001b[37m# Provided model load function\u001b[39;49;00m\r\n",
      "\u001b[34mdef\u001b[39;49;00m \u001b[32mmodel_fn\u001b[39;49;00m(model_dir):\r\n",
      "    \u001b[33m\"\"\"Load model from the model_dir. This is the same model that is saved\u001b[39;49;00m\r\n",
      "\u001b[33m    in the main if statement.\u001b[39;49;00m\r\n",
      "\u001b[33m    \"\"\"\u001b[39;49;00m\r\n",
      "    \u001b[36mprint\u001b[39;49;00m(\u001b[33m\"\u001b[39;49;00m\u001b[33mLoading model.\u001b[39;49;00m\u001b[33m\"\u001b[39;49;00m)\r\n",
      "    \r\n",
      "    \u001b[37m# load using joblib\u001b[39;49;00m\r\n",
      "    model = joblib.load(os.path.join(model_dir, \u001b[33m\"\u001b[39;49;00m\u001b[33mmodel.joblib\u001b[39;49;00m\u001b[33m\"\u001b[39;49;00m))\r\n",
      "    \u001b[36mprint\u001b[39;49;00m(\u001b[33m\"\u001b[39;49;00m\u001b[33mDone loading model.\u001b[39;49;00m\u001b[33m\"\u001b[39;49;00m)\r\n",
      "    \r\n",
      "    \u001b[34mreturn\u001b[39;49;00m model\r\n",
      "\r\n",
      "\r\n",
      "\u001b[37m## TODO: Complete the main code\u001b[39;49;00m\r\n",
      "\u001b[34mif\u001b[39;49;00m \u001b[31m__name__\u001b[39;49;00m == \u001b[33m'\u001b[39;49;00m\u001b[33m__main__\u001b[39;49;00m\u001b[33m'\u001b[39;49;00m:\r\n",
      "    \r\n",
      "    \u001b[37m# All of the model parameters and training parameters are sent as arguments\u001b[39;49;00m\r\n",
      "    \u001b[37m# when this script is executed, during a training job\u001b[39;49;00m\r\n",
      "    \r\n",
      "    \u001b[37m# Here we set up an argument parser to easily access the parameters\u001b[39;49;00m\r\n",
      "    parser = argparse.ArgumentParser()\r\n",
      "\r\n",
      "    \u001b[37m# SageMaker parameters, like the directories for training data and saving models; set automatically\u001b[39;49;00m\r\n",
      "    \u001b[37m# Do not need to change\u001b[39;49;00m\r\n",
      "    parser.add_argument(\u001b[33m'\u001b[39;49;00m\u001b[33m--output-data-dir\u001b[39;49;00m\u001b[33m'\u001b[39;49;00m, \u001b[36mtype\u001b[39;49;00m=\u001b[36mstr\u001b[39;49;00m, default=os.environ[\u001b[33m'\u001b[39;49;00m\u001b[33mSM_OUTPUT_DATA_DIR\u001b[39;49;00m\u001b[33m'\u001b[39;49;00m])\r\n",
      "    parser.add_argument(\u001b[33m'\u001b[39;49;00m\u001b[33m--model-dir\u001b[39;49;00m\u001b[33m'\u001b[39;49;00m, \u001b[36mtype\u001b[39;49;00m=\u001b[36mstr\u001b[39;49;00m, default=os.environ[\u001b[33m'\u001b[39;49;00m\u001b[33mSM_MODEL_DIR\u001b[39;49;00m\u001b[33m'\u001b[39;49;00m])\r\n",
      "    parser.add_argument(\u001b[33m'\u001b[39;49;00m\u001b[33m--data-dir\u001b[39;49;00m\u001b[33m'\u001b[39;49;00m, \u001b[36mtype\u001b[39;49;00m=\u001b[36mstr\u001b[39;49;00m, default=os.environ[\u001b[33m'\u001b[39;49;00m\u001b[33mSM_CHANNEL_TRAIN\u001b[39;49;00m\u001b[33m'\u001b[39;49;00m])\r\n",
      "    \r\n",
      "    \u001b[37m## TODO: Add any additional arguments that you will need to pass into your model\u001b[39;49;00m\r\n",
      "    parser.add_argument(\u001b[33m'\u001b[39;49;00m\u001b[33m--n_estimators\u001b[39;49;00m\u001b[33m'\u001b[39;49;00m, \u001b[36mtype\u001b[39;49;00m=\u001b[36mint\u001b[39;49;00m, default=\u001b[34m100\u001b[39;49;00m)\r\n",
      "    parser.add_argument(\u001b[33m'\u001b[39;49;00m\u001b[33m--min_samples_leaf\u001b[39;49;00m\u001b[33m'\u001b[39;49;00m, \u001b[36mtype\u001b[39;49;00m=\u001b[36mint\u001b[39;49;00m, default=\u001b[34m3\u001b[39;49;00m)\r\n",
      "    \r\n",
      "    \r\n",
      "    \u001b[37m# args holds all passed-in arguments\u001b[39;49;00m\r\n",
      "    args = parser.parse_args()\r\n",
      "\r\n",
      "    \u001b[37m# Read in csv training file\u001b[39;49;00m\r\n",
      "    training_dir = args.data_dir\r\n",
      "    train_data = pd.read_csv(os.path.join(training_dir, \u001b[33m\"\u001b[39;49;00m\u001b[33mtrain.csv\u001b[39;49;00m\u001b[33m\"\u001b[39;49;00m), header=\u001b[34mNone\u001b[39;49;00m, names=\u001b[34mNone\u001b[39;49;00m)\r\n",
      "\r\n",
      "    \u001b[37m# Labels are in the first column\u001b[39;49;00m\r\n",
      "    train_y = train_data.iloc[:,\u001b[34m0\u001b[39;49;00m]\r\n",
      "    train_x = train_data.iloc[:,\u001b[34m1\u001b[39;49;00m:]\r\n",
      "    \r\n",
      "    \r\n",
      "    \u001b[37m## --- Your code here --- ##\u001b[39;49;00m\r\n",
      "    \r\n",
      "\r\n",
      "    \u001b[37m## TODO: Define a model \u001b[39;49;00m\r\n",
      "    model = RandomForestClassifier(n_estimators=args.n_estimators, min_samples_leaf=args.min_samples_leaf, random_state=\u001b[34m42\u001b[39;49;00m) \r\n",
      "    \r\n",
      "    \u001b[37m## TODO: Train the model\u001b[39;49;00m\r\n",
      "    model.fit(train_x, train_y)\r\n",
      "    \r\n",
      "    \r\n",
      "    \u001b[37m## --- End of your code  --- ##\u001b[39;49;00m\r\n",
      "    \r\n",
      "\r\n",
      "    \u001b[37m# Save the trained model\u001b[39;49;00m\r\n",
      "    joblib.dump(model, os.path.join(args.model_dir, \u001b[33m\"\u001b[39;49;00m\u001b[33mmodel.joblib\u001b[39;49;00m\u001b[33m\"\u001b[39;49;00m))\r\n"
     ]
    }
   ],
   "source": [
    "# directory can be changed to: source_sklearn or source_pytorch\n",
    "!pygmentize source_sklearn/train.py"
   ]
  },
  {
   "cell_type": "markdown",
   "metadata": {},
   "source": [
    "### Provided code\n",
    "\n",
    "If you read the code above, you can see that the starter code includes a few things:\n",
    "* Model loading (`model_fn`) and saving code\n",
    "* Getting SageMaker's default hyperparameters\n",
    "* Loading the training data by name, `train.csv` and extracting the features and labels, `train_x`, and `train_y`\n",
    "\n",
    "If you'd like to read more about model saving with [joblib for sklearn](https://scikit-learn.org/stable/modules/model_persistence.html) or with [torch.save](https://pytorch.org/tutorials/beginner/saving_loading_models.html), click on the provided links."
   ]
  },
  {
   "cell_type": "markdown",
   "metadata": {},
   "source": [
    "---\n",
    "# Create an Estimator\n",
    "\n",
    "When a custom model is constructed in SageMaker, an entry point must be specified. This is the Python file which will be executed when the model is trained; the `train.py` function you specified above. To run a custom training script in SageMaker, construct an estimator, and fill in the appropriate constructor arguments:\n",
    "\n",
    "* **entry_point**: The path to the Python script SageMaker runs for training and prediction.\n",
    "* **source_dir**: The path to the training script directory `source_sklearn` OR `source_pytorch`.\n",
    "* **entry_point**: The path to the Python script SageMaker runs for training and prediction.\n",
    "* **source_dir**: The path to the training script directory `train_sklearn` OR `train_pytorch`.\n",
    "* **entry_point**: The path to the Python script SageMaker runs for training.\n",
    "* **source_dir**: The path to the training script directory `train_sklearn` OR `train_pytorch`.\n",
    "* **role**: Role ARN, which was specified, above.\n",
    "* **train_instance_count**: The number of training instances (should be left at 1).\n",
    "* **train_instance_type**: The type of SageMaker instance for training. Note: Because Scikit-learn does not natively support GPU training, Sagemaker Scikit-learn does not currently support training on GPU instance types.\n",
    "* **sagemaker_session**: The session used to train on Sagemaker.\n",
    "* **hyperparameters** (optional): A dictionary `{'name':value, ..}` passed to the train function as hyperparameters.\n",
    "\n",
    "Note: For a PyTorch model, there is another optional argument **framework_version**, which you can set to the latest version of PyTorch, `1.0`.\n",
    "\n",
    "## EXERCISE: Define a Scikit-learn or PyTorch estimator\n",
    "\n",
    "To import your desired estimator, use one of the following lines:\n",
    "```\n",
    "from sagemaker.sklearn.estimator import SKLearn\n",
    "```\n",
    "```\n",
    "from sagemaker.pytorch import PyTorch\n",
    "```"
   ]
  },
  {
   "cell_type": "code",
   "execution_count": 121,
   "metadata": {},
   "outputs": [],
   "source": [
    "#output_path = 's3://{}/{}'.format(bucket, prefix)\n"
   ]
  },
  {
   "cell_type": "code",
   "execution_count": 148,
   "metadata": {},
   "outputs": [
    {
     "name": "stderr",
     "output_type": "stream",
     "text": [
      "WARNING:sagemaker:This is not the latest supported version. If you would like to use version 0.23-1, please add framework_version=0.23-1 to your constructor.\n"
     ]
    }
   ],
   "source": [
    "# your import and estimator code, here\n",
    "from sagemaker.sklearn.estimator import SKLearn\n",
    "\n",
    "estimator = SKLearn(entry_point=\"train.py\",\n",
    "                    source_dir=\"source_sklearn\",\n",
    "                    role=role,\n",
    "                    train_instance_count=1,\n",
    "                    train_instance_type=\"ml.m4.xlarge\",\n",
    "                    sagemaker_session=sagemaker_session,\n",
    "                    hyperparameters={\"n_estimators\":100,\"min_samples_leaf\":3})"
   ]
  },
  {
   "cell_type": "markdown",
   "metadata": {},
   "source": [
    "## EXERCISE: Train the estimator\n",
    "\n",
    "Train your estimator on the training data stored in S3. This should create a training job that you can monitor in your SageMaker console."
   ]
  },
  {
   "cell_type": "code",
   "execution_count": 149,
   "metadata": {},
   "outputs": [
    {
     "name": "stderr",
     "output_type": "stream",
     "text": [
      "WARNING:sagemaker:'s3_input' class will be renamed to 'TrainingInput' in SageMaker Python SDK v2.\n"
     ]
    },
    {
     "name": "stdout",
     "output_type": "stream",
     "text": [
      "2020-07-14 11:27:41 Starting - Starting the training job...\n",
      "2020-07-14 11:27:43 Starting - Launching requested ML instances.........\n",
      "2020-07-14 11:29:15 Starting - Preparing the instances for training...\n",
      "2020-07-14 11:29:58 Downloading - Downloading input data...\n",
      "2020-07-14 11:30:29 Training - Downloading the training image...\n",
      "2020-07-14 11:31:06 Uploading - Uploading generated training model\n",
      "2020-07-14 11:31:06 Completed - Training job completed\n",
      "\u001b[34m2020-07-14 11:30:54,490 sagemaker-containers INFO     Imported framework sagemaker_sklearn_container.training\u001b[0m\n",
      "\u001b[34m2020-07-14 11:30:54,493 sagemaker-containers INFO     No GPUs detected (normal if no gpus installed)\u001b[0m\n",
      "\u001b[34m2020-07-14 11:30:54,505 sagemaker_sklearn_container.training INFO     Invoking user training script.\u001b[0m\n",
      "\u001b[34m2020-07-14 11:30:54,752 sagemaker-containers INFO     Module train does not provide a setup.py. \u001b[0m\n",
      "\u001b[34mGenerating setup.py\u001b[0m\n",
      "\u001b[34m2020-07-14 11:30:54,752 sagemaker-containers INFO     Generating setup.cfg\u001b[0m\n",
      "\u001b[34m2020-07-14 11:30:54,753 sagemaker-containers INFO     Generating MANIFEST.in\u001b[0m\n",
      "\u001b[34m2020-07-14 11:30:54,753 sagemaker-containers INFO     Installing module with the following command:\u001b[0m\n",
      "\u001b[34m/miniconda3/bin/python -m pip install . \u001b[0m\n",
      "\u001b[34mProcessing /opt/ml/code\u001b[0m\n",
      "\u001b[34mBuilding wheels for collected packages: train\n",
      "  Building wheel for train (setup.py): started\n",
      "  Building wheel for train (setup.py): finished with status 'done'\n",
      "  Created wheel for train: filename=train-1.0.0-py2.py3-none-any.whl size=5964 sha256=12323d03e61ef3e013ceaebe87e761241bea7b0fb3d1020e5141247276072bd3\n",
      "  Stored in directory: /tmp/pip-ephem-wheel-cache-j9fgve2t/wheels/35/24/16/37574d11bf9bde50616c67372a334f94fa8356bc7164af8ca3\u001b[0m\n",
      "\u001b[34mSuccessfully built train\u001b[0m\n",
      "\u001b[34mInstalling collected packages: train\u001b[0m\n",
      "\u001b[34mSuccessfully installed train-1.0.0\u001b[0m\n",
      "\u001b[34m2020-07-14 11:30:56,270 sagemaker-containers INFO     No GPUs detected (normal if no gpus installed)\u001b[0m\n",
      "\u001b[34m2020-07-14 11:30:56,283 sagemaker-containers INFO     Invoking user script\n",
      "\u001b[0m\n",
      "\u001b[34mTraining Env:\n",
      "\u001b[0m\n",
      "\u001b[34m{\n",
      "    \"additional_framework_parameters\": {},\n",
      "    \"channel_input_dirs\": {\n",
      "        \"train\": \"/opt/ml/input/data/train\"\n",
      "    },\n",
      "    \"current_host\": \"algo-1\",\n",
      "    \"framework_module\": \"sagemaker_sklearn_container.training:main\",\n",
      "    \"hosts\": [\n",
      "        \"algo-1\"\n",
      "    ],\n",
      "    \"hyperparameters\": {\n",
      "        \"n_estimators\": 100,\n",
      "        \"min_samples_leaf\": 3\n",
      "    },\n",
      "    \"input_config_dir\": \"/opt/ml/input/config\",\n",
      "    \"input_data_config\": {\n",
      "        \"train\": {\n",
      "            \"TrainingInputMode\": \"File\",\n",
      "            \"S3DistributionType\": \"FullyReplicated\",\n",
      "            \"RecordWrapperType\": \"None\"\n",
      "        }\n",
      "    },\n",
      "    \"input_dir\": \"/opt/ml/input\",\n",
      "    \"is_master\": true,\n",
      "    \"job_name\": \"sagemaker-scikit-learn-2020-07-14-11-27-41-020\",\n",
      "    \"log_level\": 20,\n",
      "    \"master_hostname\": \"algo-1\",\n",
      "    \"model_dir\": \"/opt/ml/model\",\n",
      "    \"module_dir\": \"s3://sagemaker-us-east-2-659044535137/sagemaker-scikit-learn-2020-07-14-11-27-41-020/source/sourcedir.tar.gz\",\n",
      "    \"module_name\": \"train\",\n",
      "    \"network_interface_name\": \"eth0\",\n",
      "    \"num_cpus\": 4,\n",
      "    \"num_gpus\": 0,\n",
      "    \"output_data_dir\": \"/opt/ml/output/data\",\n",
      "    \"output_dir\": \"/opt/ml/output\",\n",
      "    \"output_intermediate_dir\": \"/opt/ml/output/intermediate\",\n",
      "    \"resource_config\": {\n",
      "        \"current_host\": \"algo-1\",\n",
      "        \"hosts\": [\n",
      "            \"algo-1\"\n",
      "        ],\n",
      "        \"network_interface_name\": \"eth0\"\n",
      "    },\n",
      "    \"user_entry_point\": \"train.py\"\u001b[0m\n",
      "\u001b[34m}\n",
      "\u001b[0m\n",
      "\u001b[34mEnvironment variables:\n",
      "\u001b[0m\n",
      "\u001b[34mSM_HOSTS=[\"algo-1\"]\u001b[0m\n",
      "\u001b[34mSM_NETWORK_INTERFACE_NAME=eth0\u001b[0m\n",
      "\u001b[34mSM_HPS={\"min_samples_leaf\":3,\"n_estimators\":100}\u001b[0m\n",
      "\u001b[34mSM_USER_ENTRY_POINT=train.py\u001b[0m\n",
      "\u001b[34mSM_FRAMEWORK_PARAMS={}\u001b[0m\n",
      "\u001b[34mSM_RESOURCE_CONFIG={\"current_host\":\"algo-1\",\"hosts\":[\"algo-1\"],\"network_interface_name\":\"eth0\"}\u001b[0m\n",
      "\u001b[34mSM_INPUT_DATA_CONFIG={\"train\":{\"RecordWrapperType\":\"None\",\"S3DistributionType\":\"FullyReplicated\",\"TrainingInputMode\":\"File\"}}\u001b[0m\n",
      "\u001b[34mSM_OUTPUT_DATA_DIR=/opt/ml/output/data\u001b[0m\n",
      "\u001b[34mSM_CHANNELS=[\"train\"]\u001b[0m\n",
      "\u001b[34mSM_CURRENT_HOST=algo-1\u001b[0m\n",
      "\u001b[34mSM_MODULE_NAME=train\u001b[0m\n",
      "\u001b[34mSM_LOG_LEVEL=20\u001b[0m\n",
      "\u001b[34mSM_FRAMEWORK_MODULE=sagemaker_sklearn_container.training:main\u001b[0m\n",
      "\u001b[34mSM_INPUT_DIR=/opt/ml/input\u001b[0m\n",
      "\u001b[34mSM_INPUT_CONFIG_DIR=/opt/ml/input/config\u001b[0m\n",
      "\u001b[34mSM_OUTPUT_DIR=/opt/ml/output\u001b[0m\n",
      "\u001b[34mSM_NUM_CPUS=4\u001b[0m\n",
      "\u001b[34mSM_NUM_GPUS=0\u001b[0m\n",
      "\u001b[34mSM_MODEL_DIR=/opt/ml/model\u001b[0m\n",
      "\u001b[34mSM_MODULE_DIR=s3://sagemaker-us-east-2-659044535137/sagemaker-scikit-learn-2020-07-14-11-27-41-020/source/sourcedir.tar.gz\u001b[0m\n",
      "\u001b[34mSM_TRAINING_ENV={\"additional_framework_parameters\":{},\"channel_input_dirs\":{\"train\":\"/opt/ml/input/data/train\"},\"current_host\":\"algo-1\",\"framework_module\":\"sagemaker_sklearn_container.training:main\",\"hosts\":[\"algo-1\"],\"hyperparameters\":{\"min_samples_leaf\":3,\"n_estimators\":100},\"input_config_dir\":\"/opt/ml/input/config\",\"input_data_config\":{\"train\":{\"RecordWrapperType\":\"None\",\"S3DistributionType\":\"FullyReplicated\",\"TrainingInputMode\":\"File\"}},\"input_dir\":\"/opt/ml/input\",\"is_master\":true,\"job_name\":\"sagemaker-scikit-learn-2020-07-14-11-27-41-020\",\"log_level\":20,\"master_hostname\":\"algo-1\",\"model_dir\":\"/opt/ml/model\",\"module_dir\":\"s3://sagemaker-us-east-2-659044535137/sagemaker-scikit-learn-2020-07-14-11-27-41-020/source/sourcedir.tar.gz\",\"module_name\":\"train\",\"network_interface_name\":\"eth0\",\"num_cpus\":4,\"num_gpus\":0,\"output_data_dir\":\"/opt/ml/output/data\",\"output_dir\":\"/opt/ml/output\",\"output_intermediate_dir\":\"/opt/ml/output/intermediate\",\"resource_config\":{\"current_host\":\"algo-1\",\"hosts\":[\"algo-1\"],\"network_interface_name\":\"eth0\"},\"user_entry_point\":\"train.py\"}\u001b[0m\n",
      "\u001b[34mSM_USER_ARGS=[\"--min_samples_leaf\",\"3\",\"--n_estimators\",\"100\"]\u001b[0m\n",
      "\u001b[34mSM_OUTPUT_INTERMEDIATE_DIR=/opt/ml/output/intermediate\u001b[0m\n",
      "\u001b[34mSM_CHANNEL_TRAIN=/opt/ml/input/data/train\u001b[0m\n",
      "\u001b[34mSM_HP_N_ESTIMATORS=100\u001b[0m\n",
      "\u001b[34mSM_HP_MIN_SAMPLES_LEAF=3\u001b[0m\n",
      "\u001b[34mPYTHONPATH=/miniconda3/bin:/miniconda3/lib/python37.zip:/miniconda3/lib/python3.7:/miniconda3/lib/python3.7/lib-dynload:/miniconda3/lib/python3.7/site-packages\n",
      "\u001b[0m\n",
      "\u001b[34mInvoking script with the following command:\n",
      "\u001b[0m\n",
      "\u001b[34m/miniconda3/bin/python -m train --min_samples_leaf 3 --n_estimators 100\n",
      "\n",
      "\u001b[0m\n",
      "\u001b[34m/miniconda3/lib/python3.7/site-packages/sklearn/externals/joblib/externals/cloudpickle/cloudpickle.py:47: DeprecationWarning: the imp module is deprecated in favour of importlib; see the module's documentation for alternative uses\n",
      "  import imp\u001b[0m\n",
      "\u001b[34m2020-07-14 11:30:57,677 sagemaker-containers INFO     Reporting training SUCCESS\u001b[0m\n",
      "Training seconds: 68\n",
      "Billable seconds: 68\n",
      "CPU times: user 509 ms, sys: 43.6 ms, total: 553 ms\n",
      "Wall time: 3min 42s\n"
     ]
    }
   ],
   "source": [
    "%%time\n",
    "\n",
    "# Train your estimator on S3 training data\n",
    "input_data = sagemaker_session.upload_data(path=data_dir, bucket=bucket, key_prefix=prefix)\n",
    "input_data\n",
    "#estimator.fit({'train': input_data})\n",
    "estimator.fit({\"train\":\"s3://sagemaker-us-east-2-659044535137/sagemaker/plagiarism-data/train.csv\"})"
   ]
  },
  {
   "cell_type": "markdown",
   "metadata": {},
   "source": [
    "## EXERCISE: Deploy the trained model\n",
    "\n",
    "After training, deploy your model to create a `predictor`. If you're using a PyTorch model, you'll need to create a trained `PyTorchModel` that accepts the trained `<model>.model_data` as an input parameter and points to the provided `source_pytorch/predict.py` file as an entry point. \n",
    "\n",
    "To deploy a trained model, you'll use `<model>.deploy`, which takes in two arguments:\n",
    "* **initial_instance_count**: The number of deployed instances (1).\n",
    "* **instance_type**: The type of SageMaker instance for deployment.\n",
    "\n",
    "Note: If you run into an instance error, it may be because you chose the wrong training or deployment instance_type. It may help to refer to your previous exercise code to see which types of instances we used."
   ]
  },
  {
   "cell_type": "code",
   "execution_count": null,
   "metadata": {},
   "outputs": [],
   "source": []
  },
  {
   "cell_type": "code",
   "execution_count": 150,
   "metadata": {},
   "outputs": [
    {
     "name": "stderr",
     "output_type": "stream",
     "text": [
      "WARNING:sagemaker:Parameter image will be renamed to image_uri in SageMaker Python SDK v2.\n"
     ]
    },
    {
     "name": "stdout",
     "output_type": "stream",
     "text": [
      "-------------!CPU times: user 264 ms, sys: 9.9 ms, total: 274 ms\n",
      "Wall time: 6min 31s\n"
     ]
    }
   ],
   "source": [
    "%%time\n",
    "\n",
    "# uncomment, if needed\n",
    "# from sagemaker.pytorch import PyTorchModel\n",
    "\n",
    "\n",
    "# deploy your model to create a predictor\n",
    "predictor = estimator.deploy(initial_instance_count=1, instance_type='ml.m4.xlarge')\n"
   ]
  },
  {
   "cell_type": "markdown",
   "metadata": {},
   "source": [
    "---\n",
    "# Evaluating Your Model\n",
    "\n",
    "Once your model is deployed, you can see how it performs when applied to our test data.\n",
    "\n",
    "The provided cell below, reads in the test data, assuming it is stored locally in `data_dir` and named `test.csv`. The labels and features are extracted from the `.csv` file."
   ]
  },
  {
   "cell_type": "code",
   "execution_count": 151,
   "metadata": {},
   "outputs": [],
   "source": [
    "\"\"\"\n",
    "DON'T MODIFY ANYTHING IN THIS CELL THAT IS BELOW THIS LINE\n",
    "\"\"\"\n",
    "import os\n",
    "\n",
    "# read in test data, assuming it is stored locally\n",
    "test_data = pd.read_csv(os.path.join(data_dir, \"test.csv\"), header=None, names=None)\n",
    "\n",
    "# labels are in the first column\n",
    "test_y = test_data.iloc[:,0]\n",
    "test_x = test_data.iloc[:,1:]"
   ]
  },
  {
   "cell_type": "code",
   "execution_count": null,
   "metadata": {},
   "outputs": [],
   "source": []
  },
  {
   "cell_type": "markdown",
   "metadata": {},
   "source": [
    "## EXERCISE: Determine the accuracy of your model\n",
    "\n",
    "Use your deployed `predictor` to generate predicted, class labels for the test data. Compare those to the *true* labels, `test_y`, and calculate the accuracy as a value between 0 and 1.0 that indicates the fraction of test data that your model classified correctly. You may use [sklearn.metrics](https://scikit-learn.org/stable/modules/classes.html#module-sklearn.metrics) for this calculation.\n",
    "\n",
    "**To pass this project, your model should get at least 90% test accuracy.**"
   ]
  },
  {
   "cell_type": "code",
   "execution_count": null,
   "metadata": {},
   "outputs": [],
   "source": []
  },
  {
   "cell_type": "code",
   "execution_count": 152,
   "metadata": {},
   "outputs": [
    {
     "name": "stdout",
     "output_type": "stream",
     "text": [
      "hi\n"
     ]
    }
   ],
   "source": [
    "print(\"hi\")"
   ]
  },
  {
   "cell_type": "code",
   "execution_count": 164,
   "metadata": {},
   "outputs": [
    {
     "name": "stdout",
     "output_type": "stream",
     "text": [
      "Test passed!\n"
     ]
    }
   ],
   "source": [
    "# First: generate predicted, class labels\n",
    "test_y_preds = predictor.predict(test_x)\n",
    "\n",
    "\n",
    "\"\"\"\n",
    "DON'T MODIFY ANYTHING IN THIS CELL THAT IS BELOW THIS LINE\n",
    "\"\"\"\n",
    "# test that your model generates the correct number of labels\n",
    "assert len(test_y_preds)==len(test_y), 'Unexpected number of predictions.'\n",
    "print('Test passed!')"
   ]
  },
  {
   "cell_type": "code",
   "execution_count": 165,
   "metadata": {},
   "outputs": [
    {
     "name": "stdout",
     "output_type": "stream",
     "text": [
      "None\n",
      "\n",
      "Predicted class labels: \n",
      "[1 1 1 1 1 1 0 0 0 0 0 0 1 1 1 1 1 1 0 1 0 1 1 0 0]\n",
      "\n",
      "True class labels: \n",
      "[1 1 1 1 1 1 0 0 0 0 0 0 1 1 1 1 1 1 0 1 0 1 1 0 0]\n"
     ]
    }
   ],
   "source": [
    "# Second: calculate the test accuracy\n",
    "accuracy = None\n",
    "\n",
    "print(accuracy)\n",
    "\n",
    "\n",
    "## print out the array of predicted and true labels, if you want\n",
    "print('\\nPredicted class labels: ')\n",
    "print(test_ypreds)\n",
    "print('\\nTrue class labels: ')\n",
    "print(test_y.values)"
   ]
  },
  {
   "cell_type": "markdown",
   "metadata": {},
   "source": [
    "### Question 1: How many false positives and false negatives did your model produce, if any? And why do you think this is?"
   ]
  },
  {
   "cell_type": "markdown",
   "metadata": {},
   "source": [
    "** Answer**: \n",
    " IT IS ZERO AS PREDICTED CLASS LABELS = TRUE CLASS LABELS\n",
    " THEREFORE GIVING 100% accuracy but this seems weird "
   ]
  },
  {
   "cell_type": "code",
   "execution_count": 168,
   "metadata": {},
   "outputs": [
    {
     "name": "stdout",
     "output_type": "stream",
     "text": [
      "0.9571428571428572\n",
      "[0 1 1 0 0 0 1 0 0 1 1 1 1 0 0 1 0 1 1 1 1 0 1 1 1 1 1 1 0 1 1 1 0 0 0 1 0\n",
      " 0 1 1 1 1 0 0 0 0 0 0 0 1 1 1 1 0 0 1 1 0 1 1 1 0 1 0 0 1 0 1 1 0]\n",
      "70\n"
     ]
    }
   ],
   "source": [
    "### Calculating training accuracy for comparision\n",
    "## trying a another way because 100% is not likely seems like overfitting\n",
    "\n",
    "import os\n",
    "import numpy as np\n",
    "from sklearn.metrics import accuracy_score\n",
    "\n",
    "train_data = pd.read_csv(os.path.join(data_dir, \"train.csv\"), header=None, names=None)\n",
    "\n",
    "# labels are in the first column\n",
    "train_y = train_data.iloc[:,0]\n",
    "train_x = train_data.iloc[:,1:]\n",
    "\n",
    "train_ypreds = np.squeeze(np.round(predictor.predict(train_x)))\n",
    "#train_y_preds = predictor.predict(train_x)\n",
    "accuracy_train = accuracy_score(train_y,train_y_preds)\n",
    "\n",
    "print(accuracy_train)\n",
    "\n",
    "print(train_y_preds)\n",
    "print(len(train_y))"
   ]
  },
  {
   "cell_type": "code",
   "execution_count": 169,
   "metadata": {},
   "outputs": [
    {
     "name": "stdout",
     "output_type": "stream",
     "text": [
      "Test passed!\n"
     ]
    }
   ],
   "source": [
    "# First: generate predicted, class labels\n",
    "import numpy as np\n",
    "test_ypreds = np.squeeze(np.round(predictor.predict(test_x)))\n",
    "\n",
    "\"\"\"\n",
    "DON'T MODIFY ANYTHING IN THIS CELL THAT IS BELOW THIS LINE\n",
    "\"\"\"\n",
    "# test that your model generates the correct number of labels\n",
    "assert len(test_ypreds)==len(test_y), 'Unexpected number of predictions.'\n",
    "print('Test passed!')"
   ]
  },
  {
   "cell_type": "code",
   "execution_count": 170,
   "metadata": {},
   "outputs": [
    {
     "name": "stdout",
     "output_type": "stream",
     "text": [
      "1.0\n",
      "\n",
      "Predicted class labels: \n",
      "[1 1 1 1 1 1 0 0 0 0 0 0 1 1 1 1 1 1 0 1 0 1 1 0 0]\n",
      "\n",
      "True class labels: \n",
      "[1 1 1 1 1 1 0 0 0 0 0 0 1 1 1 1 1 1 0 1 0 1 1 0 0]\n"
     ]
    }
   ],
   "source": [
    "# Second: calculate the test accuracy\n",
    "from sklearn.metrics import accuracy_score\n",
    "accuracy = accuracy_score(test_y,test_ypreds)\n",
    "\n",
    "print(accuracy)\n",
    "\n",
    "\n",
    "## print out the array of predicted and true labels, if you want\n",
    "print('\\nPredicted class labels: ')\n",
    "print(test_y_preds)\n",
    "print('\\nTrue class labels: ')\n",
    "print(test_y.values)"
   ]
  },
  {
   "cell_type": "code",
   "execution_count": 173,
   "metadata": {},
   "outputs": [],
   "source": [
    "###IT IS STILL 100% I DONT KNOW WHAT TO DO I TRIED BUT STILL THE SAME"
   ]
  },
  {
   "cell_type": "markdown",
   "metadata": {},
   "source": [
    "### Question 2: How did you decide on the type of model to use? "
   ]
  },
  {
   "cell_type": "markdown",
   "metadata": {},
   "source": [
    "** Answer**: THIS WAS THE MOST BASIC MODEL I WAS THINKING ABOUT LOGICTIC REGRESSION TOO\n",
    "\n"
   ]
  },
  {
   "cell_type": "markdown",
   "metadata": {},
   "source": [
    "----\n",
    "## EXERCISE: Clean up Resources\n",
    "\n",
    "After you're done evaluating your model, **delete your model endpoint**. You can do this with a call to `.delete_endpoint()`. You need to show, in this notebook, that the endpoint was deleted. Any other resources, you may delete from the AWS console, and you will find more instructions on cleaning up all your resources, below."
   ]
  },
  {
   "cell_type": "code",
   "execution_count": 174,
   "metadata": {},
   "outputs": [],
   "source": [
    "# uncomment and fill in the line below!\n",
    "# <name_of_deployed_predictor>.delete_endpoint()\n",
    "predictor.delete_endpoint()"
   ]
  },
  {
   "cell_type": "markdown",
   "metadata": {},
   "source": [
    "### Deleting S3 bucket\n",
    "\n",
    "When you are *completely* done with training and testing models, you can also delete your entire S3 bucket. If you do this before you are done training your model, you'll have to recreate your S3 bucket and upload your training data again."
   ]
  },
  {
   "cell_type": "code",
   "execution_count": 175,
   "metadata": {},
   "outputs": [
    {
     "data": {
      "text/plain": [
       "[{'ResponseMetadata': {'RequestId': 'CF0B6F3F411A9D7C',\n",
       "   'HostId': 'a6Oc7uJxDmd25eB1SW+8vrc7BSYEDB94S6ghlFWRUA1IaJnY/secMwnh3NWfuFQ79dxhRaTk3m0=',\n",
       "   'HTTPStatusCode': 200,\n",
       "   'HTTPHeaders': {'x-amz-id-2': 'a6Oc7uJxDmd25eB1SW+8vrc7BSYEDB94S6ghlFWRUA1IaJnY/secMwnh3NWfuFQ79dxhRaTk3m0=',\n",
       "    'x-amz-request-id': 'CF0B6F3F411A9D7C',\n",
       "    'date': 'Tue, 14 Jul 2020 11:59:05 GMT',\n",
       "    'connection': 'close',\n",
       "    'content-type': 'application/xml',\n",
       "    'transfer-encoding': 'chunked',\n",
       "    'server': 'AmazonS3'},\n",
       "   'RetryAttempts': 0},\n",
       "  'Deleted': [{'Key': 'sagemaker-pytorch-2020-07-05-14-19-46-305/output/model.tar.gz'},\n",
       "   {'Key': 'sagemaker-pytorch-2020-07-04-20-16-38-344/sourcedir.tar.gz'},\n",
       "   {'Key': 'sagemaker-pytorch-2020-07-05-14-08-40-977/source/sourcedir.tar.gz'},\n",
       "   {'Key': 'sentiment-web-app/test.csv'},\n",
       "   {'Key': 'sagemaker-scikit-learn-2020-07-13-18-38-19-365/source/sourcedir.tar.gz'},\n",
       "   {'Key': 'sagemaker-scikit-learn-2020-07-13-18-47-09-989/source/sourcedir.tar.gz'},\n",
       "   {'Key': 'sagemaker-record-sets/KMeans-2020-07-13-14-12-44-051/.amazon.manifest'},\n",
       "   {'Key': 'sentiment-xgboost/validation.csv'},\n",
       "   {'Key': 'sagemaker-scikit-learn-2020-07-13-19-08-23-902/source/sourcedir.tar.gz'},\n",
       "   {'Key': 'sagemaker-record-sets/PCA-2020-07-13-10-02-14-301/.amazon.manifest'},\n",
       "   {'Key': 'sagemaker-scikit-learn-2020-07-13-19-34-28-828/source/sourcedir.tar.gz'},\n",
       "   {'Key': 'sagemaker-record-sets/KMeans-2020-07-13-14-13-33-245/.amazon.manifest'},\n",
       "   {'Key': 'sentiment-web-app/validation.csv'},\n",
       "   {'Key': 'xgboost-2020-07-02-20-47-53-771/test.csv.out'},\n",
       "   {'Key': 'sagemaker/sentiment_rnn/train.csv'},\n",
       "   {'Key': 'sagemaker-pytorch-2020-07-04-15-25-59-555/debug-output/training_job_end.ts'},\n",
       "   {'Key': 'sagemaker-scikit-learn-2020-07-13-19-08-23-902/output/model.tar.gz'},\n",
       "   {'Key': 'sagemaker-pytorch-2020-07-05-04-45-36-420/source/sourcedir.tar.gz'},\n",
       "   {'Key': 'sagemaker-scikit-learn-2020-07-14-11-27-41-020/debug-output/training_job_end.ts'},\n",
       "   {'Key': 'sagemaker-scikit-learn-2020-07-14-11-27-41-020/source/sourcedir.tar.gz'},\n",
       "   {'Key': 'sagemaker/plagiarism-data/test.csv'},\n",
       "   {'Key': 'sagemaker/sentiment_rnn/word_dict.pkl'},\n",
       "   {'Key': 'sagemaker-pytorch-2020-07-04-15-25-59-555/output/model.tar.gz'},\n",
       "   {'Key': 'sagemaker-scikit-learn-2020-07-14-11-27-41-020/output/model.tar.gz'},\n",
       "   {'Key': 'sagemaker-pytorch-2020-07-04-19-28-42-820/sourcedir.tar.gz'},\n",
       "   {'Key': 'sagemaker-pytorch-2020-07-05-14-19-46-305/source/sourcedir.tar.gz'},\n",
       "   {'Key': 'sagemaker-scikit-learn-2020-07-13-19-27-00-591/output/model.tar.gz'},\n",
       "   {'Key': 'sagemaker/plagiarism-data/train.csv'},\n",
       "   {'Key': 'sentiment-xgboost/output/xgboost-2020-07-01-16-50-49-466/output/model.tar.gz'},\n",
       "   {'Key': 'sagemaker-pytorch-2020-07-04-16-35-10-259/output/model.tar.gz'},\n",
       "   {'Key': 'sagemaker-pytorch-2020-07-05-04-45-36-420/debug-output/training_job_end.ts'},\n",
       "   {'Key': 'sagemaker-pytorch-2020-07-05-14-19-46-305/debug-output/training_job_end.ts'},\n",
       "   {'Key': 'sagemaker-record-sets/KMeans-2020-07-13-14-13-33-245/matrix_0.pbr'},\n",
       "   {'Key': 'sagemaker-pytorch-2020-07-04-21-49-46-353/debug-output/training_job_end.ts'},\n",
       "   {'Key': 'counties/pca-2020-07-13-10-02-18-503/output/model.tar.gz'},\n",
       "   {'Key': 'sagemaker-pytorch-2020-07-04-19-52-17-283/sourcedir.tar.gz'},\n",
       "   {'Key': 'sagemaker-pytorch-2020-07-05-04-45-36-420/output/model.tar.gz'},\n",
       "   {'Key': 'sagemaker-scikit-learn-2020-07-13-19-27-00-591/source/sourcedir.tar.gz'},\n",
       "   {'Key': 'sagemaker-pytorch-2020-07-04-21-13-07-061/sourcedir.tar.gz'},\n",
       "   {'Key': 'xgboost-2020-07-01-16-54-01-643/test.csv.out'},\n",
       "   {'Key': 'sagemaker-pytorch-2020-07-04-20-02-56-951/sourcedir.tar.gz'},\n",
       "   {'Key': 'sagemaker-scikit-learn-2020-07-14-10-57-06-458/source/sourcedir.tar.gz'},\n",
       "   {'Key': 'sentiment-web-app/train.csv'},\n",
       "   {'Key': 'sagemaker-scikit-learn-2020-07-14-11-09-22-362/source/sourcedir.tar.gz'},\n",
       "   {'Key': 'sagemaker-pytorch-2020-07-04-15-25-59-555/source/sourcedir.tar.gz'},\n",
       "   {'Key': 'sagemaker-pytorch-2020-07-04-21-41-43-778/sourcedir.tar.gz'},\n",
       "   {'Key': 'sagemaker-pytorch-2020-07-05-16-25-41-130/sourcedir.tar.gz'},\n",
       "   {'Key': 'sagemaker-pytorch-2020-07-04-16-35-10-259/source/sourcedir.tar.gz'},\n",
       "   {'Key': 'sagemaker-pytorch-2020-07-04-21-43-32-887/sourcedir.tar.gz'},\n",
       "   {'Key': 'sentiment-web-app/output/xgboost-2020-07-02-20-39-02-730/output/model.tar.gz'},\n",
       "   {'Key': 'sagemaker-scikit-learn-2020-07-13-19-08-23-902/debug-output/training_job_end.ts'},\n",
       "   {'Key': 'sagemaker-pytorch-2020-07-04-20-06-01-458/sourcedir.tar.gz'},\n",
       "   {'Key': 'sentiment-xgboost/test.csv'},\n",
       "   {'Key': 'sentiment-xgboost/train.csv'},\n",
       "   {'Key': 'sagemaker-scikit-learn-2020-07-13-19-03-10-720/source/sourcedir.tar.gz'},\n",
       "   {'Key': 'sagemaker-pytorch-2020-07-04-21-42-04-566/sourcedir.tar.gz'},\n",
       "   {'Key': 'sagemaker-scikit-learn-2020-07-13-18-30-46-884/source/sourcedir.tar.gz'},\n",
       "   {'Key': 'counties/kmeans-2020-07-13-14-14-19-903/output/model.tar.gz'},\n",
       "   {'Key': 'sagemaker-pytorch-2020-07-04-16-35-10-259/debug-output/training_job_end.ts'},\n",
       "   {'Key': 'sagemaker-scikit-learn-2020-07-13-19-27-00-591/debug-output/training_job_end.ts'},\n",
       "   {'Key': 'sagemaker-pytorch-2020-07-04-20-20-59-979/sourcedir.tar.gz'},\n",
       "   {'Key': 'sagemaker-pytorch-2020-07-04-21-49-46-353/source/sourcedir.tar.gz'},\n",
       "   {'Key': 'sagemaker-scikit-learn-2020-07-13-19-34-28-828/debug-output/training_job_end.ts'},\n",
       "   {'Key': 'sagemaker-pytorch-2020-07-04-20-04-56-582/sourcedir.tar.gz'},\n",
       "   {'Key': 'sagemaker-record-sets/KMeans-2020-07-13-14-12-44-051/matrix_0.pbr'},\n",
       "   {'Key': 'sagemaker-record-sets/PCA-2020-07-13-10-02-14-301/matrix_0.pbr'},\n",
       "   {'Key': 'sagemaker-scikit-learn-2020-07-13-19-34-28-828/output/model.tar.gz'},\n",
       "   {'Key': 'sagemaker-pytorch-2020-07-04-21-49-46-353/output/model.tar.gz'}]}]"
      ]
     },
     "execution_count": 175,
     "metadata": {},
     "output_type": "execute_result"
    }
   ],
   "source": [
    "# deleting bucket, uncomment lines below\n",
    "\n",
    "# bucket_to_delete = boto3.resource('s3').Bucket(bucket)\n",
    "# bucket_to_delete.objects.all().delete()\n",
    "\n",
    "bucket_to_delete = boto3.resource('s3').Bucket(bucket)\n",
    "bucket_to_delete.objects.all().delete()"
   ]
  },
  {
   "cell_type": "markdown",
   "metadata": {},
   "source": [
    "### Deleting all your models and instances\n",
    "\n",
    "When you are _completely_ done with this project and do **not** ever want to revisit this notebook, you can choose to delete all of your SageMaker notebook instances and models by following [these instructions](https://docs.aws.amazon.com/sagemaker/latest/dg/ex1-cleanup.html). Before you delete this notebook instance, I recommend at least downloading a copy and saving it, locally."
   ]
  },
  {
   "cell_type": "markdown",
   "metadata": {},
   "source": [
    "---\n",
    "## Further Directions\n",
    "\n",
    "There are many ways to improve or add on to this project to expand your learning or make this more of a unique project for you. A few ideas are listed below:\n",
    "* Train a classifier to predict the *category* (1-3) of plagiarism and not just plagiarized (1) or not (0).\n",
    "* Utilize a different and larger dataset to see if this model can be extended to other types of plagiarism.\n",
    "* Use language or character-level analysis to find different (and more) similarity features.\n",
    "* Write a complete pipeline function that accepts a source text and submitted text file, and classifies the submitted text as plagiarized or not.\n",
    "* Use API Gateway and a lambda function to deploy your model to a web application.\n",
    "\n",
    "These are all just options for extending your work. If you've completed all the exercises in this notebook, you've completed a real-world application, and can proceed to submit your project. Great job!"
   ]
  },
  {
   "cell_type": "code",
   "execution_count": null,
   "metadata": {},
   "outputs": [],
   "source": []
  },
  {
   "cell_type": "code",
   "execution_count": null,
   "metadata": {},
   "outputs": [],
   "source": []
  }
 ],
 "metadata": {
  "kernelspec": {
   "display_name": "Python 3",
   "language": "python",
   "name": "python3"
  },
  "language_info": {
   "codemirror_mode": {
    "name": "ipython",
    "version": 3
   },
   "file_extension": ".py",
   "mimetype": "text/x-python",
   "name": "python",
   "nbconvert_exporter": "python",
   "pygments_lexer": "ipython3",
   "version": "3.7.6"
  }
 },
 "nbformat": 4,
 "nbformat_minor": 2
}
